{
 "cells": [
  {
   "cell_type": "code",
   "execution_count": 100,
   "metadata": {},
   "outputs": [],
   "source": [
    "import pandas as pd"
   ]
  },
  {
   "cell_type": "code",
   "execution_count": 101,
   "metadata": {},
   "outputs": [
    {
     "data": {
      "text/html": [
       "<div>\n",
       "<style scoped>\n",
       "    .dataframe tbody tr th:only-of-type {\n",
       "        vertical-align: middle;\n",
       "    }\n",
       "\n",
       "    .dataframe tbody tr th {\n",
       "        vertical-align: top;\n",
       "    }\n",
       "\n",
       "    .dataframe thead th {\n",
       "        text-align: right;\n",
       "    }\n",
       "</style>\n",
       "<table border=\"1\" class=\"dataframe\">\n",
       "  <thead>\n",
       "    <tr style=\"text-align: right;\">\n",
       "      <th></th>\n",
       "      <th>Item</th>\n",
       "      <th>description</th>\n",
       "      <th>amount</th>\n",
       "      <th>paid_by</th>\n",
       "      <th>total</th>\n",
       "      <th>owed_by</th>\n",
       "      <th>portion</th>\n",
       "    </tr>\n",
       "  </thead>\n",
       "  <tbody>\n",
       "    <tr>\n",
       "      <th>0</th>\n",
       "      <td>BNB</td>\n",
       "      <td>NaN</td>\n",
       "      <td>1.00</td>\n",
       "      <td>ben</td>\n",
       "      <td>1</td>\n",
       "      <td>ben</td>\n",
       "      <td>421.30</td>\n",
       "    </tr>\n",
       "    <tr>\n",
       "      <th>1</th>\n",
       "      <td>CAR</td>\n",
       "      <td>NaN</td>\n",
       "      <td>1.00</td>\n",
       "      <td>keiton</td>\n",
       "      <td>1</td>\n",
       "      <td>ben</td>\n",
       "      <td>284.51</td>\n",
       "    </tr>\n",
       "    <tr>\n",
       "      <th>2</th>\n",
       "      <td>walmart</td>\n",
       "      <td>slippers+tax</td>\n",
       "      <td>9.65</td>\n",
       "      <td>alex</td>\n",
       "      <td>4</td>\n",
       "      <td>ben</td>\n",
       "      <td>0.00</td>\n",
       "    </tr>\n",
       "  </tbody>\n",
       "</table>\n",
       "</div>"
      ],
      "text/plain": [
       "      Item   description  amount paid_by  total owed_by  portion\n",
       "0      BNB           NaN    1.00     ben      1     ben   421.30\n",
       "1      CAR           NaN    1.00  keiton      1     ben   284.51\n",
       "2  walmart  slippers+tax    9.65    alex      4     ben     0.00"
      ]
     },
     "execution_count": 101,
     "metadata": {},
     "output_type": "execute_result"
    }
   ],
   "source": [
    "df = pd.read_csv('expenses.csv')\n",
    "people = ['ben','sherina','keiton','chris','hyeok','michael','alex']\n",
    "\n",
    "df = df.melt(id_vars=[col for col in df.columns if col not in people], var_name='owed_by', value_name='portion')\n",
    "df.head(3)"
   ]
  },
  {
   "cell_type": "code",
   "execution_count": 102,
   "metadata": {},
   "outputs": [],
   "source": [
    "df['paid_by'] = df['paid_by'].apply(lambda row: row if row!='sherina' else 'ben')"
   ]
  },
  {
   "cell_type": "code",
   "execution_count": 103,
   "metadata": {},
   "outputs": [
    {
     "name": "stdout",
     "output_type": "stream",
     "text": [
      "122 transactions to do\n"
     ]
    },
    {
     "data": {
      "text/html": [
       "<div>\n",
       "<style scoped>\n",
       "    .dataframe tbody tr th:only-of-type {\n",
       "        vertical-align: middle;\n",
       "    }\n",
       "\n",
       "    .dataframe tbody tr th {\n",
       "        vertical-align: top;\n",
       "    }\n",
       "\n",
       "    .dataframe thead th {\n",
       "        text-align: right;\n",
       "    }\n",
       "</style>\n",
       "<table border=\"1\" class=\"dataframe\">\n",
       "  <thead>\n",
       "    <tr style=\"text-align: right;\">\n",
       "      <th></th>\n",
       "      <th>Item</th>\n",
       "      <th>description</th>\n",
       "      <th>amount</th>\n",
       "      <th>paid_by</th>\n",
       "      <th>total</th>\n",
       "      <th>owed_by</th>\n",
       "      <th>portion</th>\n",
       "      <th>owed_amount</th>\n",
       "    </tr>\n",
       "  </thead>\n",
       "  <tbody>\n",
       "    <tr>\n",
       "      <th>0</th>\n",
       "      <td>CAR</td>\n",
       "      <td>NaN</td>\n",
       "      <td>1.0000</td>\n",
       "      <td>keiton</td>\n",
       "      <td>1</td>\n",
       "      <td>ben</td>\n",
       "      <td>284.51</td>\n",
       "      <td>284.5100</td>\n",
       "    </tr>\n",
       "    <tr>\n",
       "      <th>1</th>\n",
       "      <td>walmart</td>\n",
       "      <td>peanut butter</td>\n",
       "      <td>5.0264</td>\n",
       "      <td>alex</td>\n",
       "      <td>1</td>\n",
       "      <td>ben</td>\n",
       "      <td>1.00</td>\n",
       "      <td>5.0264</td>\n",
       "    </tr>\n",
       "    <tr>\n",
       "      <th>2</th>\n",
       "      <td>walmart</td>\n",
       "      <td>rest</td>\n",
       "      <td>67.6011</td>\n",
       "      <td>alex</td>\n",
       "      <td>7</td>\n",
       "      <td>ben</td>\n",
       "      <td>1.00</td>\n",
       "      <td>9.6573</td>\n",
       "    </tr>\n",
       "  </tbody>\n",
       "</table>\n",
       "</div>"
      ],
      "text/plain": [
       "      Item     description   amount paid_by  total owed_by  portion  \\\n",
       "0      CAR             NaN   1.0000  keiton      1     ben   284.51   \n",
       "1  walmart  peanut butter    5.0264    alex      1     ben     1.00   \n",
       "2  walmart            rest  67.6011    alex      7     ben     1.00   \n",
       "\n",
       "   owed_amount  \n",
       "0     284.5100  \n",
       "1       5.0264  \n",
       "2       9.6573  "
      ]
     },
     "execution_count": 103,
     "metadata": {},
     "output_type": "execute_result"
    }
   ],
   "source": [
    "df['owed_amount'] = df['amount']*df['portion']/df['total']\n",
    "df = df[df['owed_amount']!=0]\n",
    "df = df[df['paid_by']!=df['owed_by']]\n",
    "df.reset_index(drop = True, inplace=True)\n",
    "print(len(df), 'transactions to do')\n",
    "df.head(3)\n"
   ]
  },
  {
   "cell_type": "code",
   "execution_count": null,
   "metadata": {},
   "outputs": [],
   "source": []
  },
  {
   "cell_type": "code",
   "execution_count": 104,
   "metadata": {},
   "outputs": [
    {
     "name": "stdout",
     "output_type": "stream",
     "text": [
      "ben  owes  keiton :  284.51\n",
      "ben  owes  alex :  5.03\n",
      "ben  owes  alex :  9.66\n",
      "ben  owes  alex :  7.0\n",
      "ben  owes  keiton :  45.43\n",
      "ben  owes  chris :  1.83\n",
      "ben  owes  keiton :  12.48\n",
      "ben  owes  keiton :  6.96\n",
      "ben  owes  keiton :  2.65\n",
      "sherina  owes  ben :  421.3\n",
      "sherina  owes  keiton :  284.51\n",
      "sherina  owes  alex :  3.2\n",
      "sherina  owes  alex :  9.66\n",
      "sherina  owes  ben :  5.55\n",
      "sherina  owes  ben :  8.0\n",
      "sherina  owes  ben :  39.51\n",
      "sherina  owes  ben :  8.47\n",
      "sherina  owes  ben :  2.17\n",
      "sherina  owes  alex :  7.0\n",
      "sherina  owes  keiton :  45.43\n",
      "sherina  owes  ben :  7.75\n",
      "sherina  owes  ben :  1.0\n",
      "sherina  owes  chris :  1.83\n",
      "sherina  owes  keiton :  12.48\n",
      "sherina  owes  ben :  9.86\n",
      "sherina  owes  ben :  1.9\n",
      "sherina  owes  ben :  2.17\n",
      "sherina  owes  ben :  8.86\n",
      "sherina  owes  ben :  6.67\n",
      "sherina  owes  keiton :  6.96\n",
      "sherina  owes  keiton :  2.65\n",
      "keiton  owes  ben :  421.3\n",
      "keiton  owes  alex :  2.41\n",
      "keiton  owes  alex :  8.35\n",
      "keiton  owes  alex :  3.2\n",
      "keiton  owes  alex :  9.66\n",
      "keiton  owes  ben :  5.55\n",
      "keiton  owes  ben :  39.51\n",
      "keiton  owes  ben :  8.75\n",
      "keiton  owes  ben :  8.47\n",
      "keiton  owes  ben :  2.17\n",
      "keiton  owes  alex :  7.0\n",
      "keiton  owes  ben :  7.75\n",
      "keiton  owes  ben :  1.0\n",
      "keiton  owes  chris :  1.83\n",
      "keiton  owes  ben :  9.86\n",
      "keiton  owes  ben :  1.9\n",
      "keiton  owes  ben :  2.17\n",
      "keiton  owes  ben :  8.86\n",
      "keiton  owes  ben :  6.67\n",
      "chris  owes  ben :  358.46\n",
      "chris  owes  keiton :  244.25\n",
      "chris  owes  alex :  2.41\n",
      "chris  owes  alex :  3.2\n",
      "chris  owes  alex :  9.66\n",
      "chris  owes  ben :  5.55\n",
      "chris  owes  ben :  8.0\n",
      "chris  owes  ben :  39.51\n",
      "chris  owes  ben :  8.75\n",
      "chris  owes  ben :  8.47\n",
      "chris  owes  ben :  2.17\n",
      "chris  owes  alex :  7.0\n",
      "chris  owes  keiton :  45.43\n",
      "chris  owes  ben :  7.75\n",
      "chris  owes  ben :  1.0\n",
      "chris  owes  keiton :  12.48\n",
      "chris  owes  ben :  9.86\n",
      "chris  owes  ben :  1.9\n",
      "chris  owes  ben :  2.17\n",
      "chris  owes  ben :  8.86\n",
      "chris  owes  ben :  6.67\n",
      "chris  owes  keiton :  6.96\n",
      "chris  owes  keiton :  2.65\n",
      "hyeok  owes  ben :  225.78\n",
      "hyeok  owes  keiton :  171.78\n",
      "hyeok  owes  alex :  2.41\n",
      "hyeok  owes  alex :  1.61\n",
      "hyeok  owes  alex :  3.2\n",
      "hyeok  owes  alex :  9.66\n",
      "hyeok  owes  ben :  5.55\n",
      "hyeok  owes  ben :  8.0\n",
      "hyeok  owes  alex :  7.0\n",
      "hyeok  owes  ben :  7.75\n",
      "hyeok  owes  chris :  1.83\n",
      "hyeok  owes  keiton :  12.48\n",
      "hyeok  owes  ben :  1.9\n",
      "hyeok  owes  ben :  2.17\n",
      "hyeok  owes  ben :  8.86\n",
      "hyeok  owes  ben :  6.67\n",
      "hyeok  owes  keiton :  6.96\n",
      "hyeok  owes  keiton :  2.65\n",
      "michael  owes  ben :  260.7\n",
      "michael  owes  keiton :  179.83\n",
      "michael  owes  alex :  9.66\n",
      "michael  owes  ben :  5.55\n",
      "michael  owes  ben :  39.51\n",
      "michael  owes  ben :  8.75\n",
      "michael  owes  ben :  8.47\n",
      "michael  owes  ben :  2.17\n",
      "michael  owes  alex :  7.0\n",
      "michael  owes  ben :  1.0\n",
      "michael  owes  chris :  1.83\n",
      "michael  owes  keiton :  12.48\n",
      "michael  owes  ben :  9.86\n",
      "michael  owes  ben :  1.9\n",
      "michael  owes  ben :  2.17\n",
      "michael  owes  ben :  8.86\n",
      "michael  owes  ben :  6.67\n",
      "michael  owes  keiton :  6.96\n",
      "michael  owes  keiton :  2.65\n",
      "alex  owes  ben :  265.35\n",
      "alex  owes  keiton :  197.28\n",
      "alex  owes  ben :  5.55\n",
      "alex  owes  ben :  8.0\n",
      "alex  owes  ben :  39.51\n",
      "alex  owes  ben :  8.75\n",
      "alex  owes  ben :  2.17\n",
      "alex  owes  keiton :  45.43\n",
      "alex  owes  ben :  7.75\n",
      "alex  owes  ben :  1.0\n",
      "alex  owes  chris :  1.83\n",
      "alex  owes  ben :  9.86\n"
     ]
    }
   ],
   "source": [
    "for idx, row in df.iterrows():\n",
    "    print(row['owed_by'], ' owes ', row['paid_by'], ': ', round(row['owed_amount'],2))"
   ]
  },
  {
   "cell_type": "code",
   "execution_count": 105,
   "metadata": {},
   "outputs": [
    {
     "data": {
      "text/plain": [
       "defaultdict(float,\n",
       "            {'keiton': 1097.9797323809523,\n",
       "             'ben': 2110.895752380952,\n",
       "             'alex': -457.52726761904756,\n",
       "             'chris': -792.1561342857143,\n",
       "             'sherina': -896.9269676190476,\n",
       "             'hyeok': -486.24776761904764,\n",
       "             'michael': -576.0173476190475})"
      ]
     },
     "execution_count": 105,
     "metadata": {},
     "output_type": "execute_result"
    }
   ],
   "source": [
    "from collections import defaultdict\n",
    "# Step 1: Calculate net balances for each person\n",
    "balances = defaultdict(float)\n",
    "for _, row in df.iterrows():\n",
    "    balances[row['paid_by']] += row['owed_amount']\n",
    "    balances[row['owed_by']] -= row['owed_amount']\n",
    "balances"
   ]
  },
  {
   "cell_type": "code",
   "execution_count": 106,
   "metadata": {},
   "outputs": [
    {
     "name": "stdout",
     "output_type": "stream",
     "text": [
      "[('keiton', 1097.9797323809523), ('ben', 2110.895752380952)]\n",
      "[('alex', 457.52726761904756), ('chris', 792.1561342857143), ('sherina', 896.9269676190476), ('hyeok', 486.24776761904764), ('michael', 576.0173476190475)]\n"
     ]
    }
   ],
   "source": [
    " # Step 2: Separate into creditors and debtors\n",
    "creditors = []\n",
    "debtors = []\n",
    "for person, balance in balances.items():\n",
    "    if balance > 0:\n",
    "        creditors.append((person, balance))\n",
    "    elif balance < 0:\n",
    "        debtors.append((person, -balance))\n",
    "print(creditors)\n",
    "print(debtors)"
   ]
  },
  {
   "cell_type": "code",
   "execution_count": 107,
   "metadata": {},
   "outputs": [
    {
     "name": "stdout",
     "output_type": "stream",
     "text": [
      "michael pays 576.02 to ben\n",
      "hyeok pays 486.25 to ben\n",
      "sherina pays 896.93 to ben\n",
      "chris pays 151.7 to ben\n",
      "chris pays 640.45 to keiton\n",
      "alex pays 457.53 to keiton\n"
     ]
    }
   ],
   "source": [
    "# Step 3: Minimize transactions\n",
    "minimized_transactions = []\n",
    "while creditors and debtors:\n",
    "    creditor, credit_amount = creditors.pop()\n",
    "    debtor, debt_amount = debtors.pop()\n",
    "\n",
    "    payment = min(credit_amount, debt_amount)\n",
    "    minimized_transactions.append({'paid_by': creditor, 'owed_by': debtor, 'owed_amount': payment})\n",
    "\n",
    "    if credit_amount > payment:\n",
    "        creditors.append((creditor, credit_amount - payment))\n",
    "    if debt_amount > payment:\n",
    "        debtors.append((debtor, debt_amount - payment))\n",
    "for transaction in minimized_transactions:\n",
    "    print(transaction['owed_by'], 'pays', round(transaction['owed_amount'],2), 'to', transaction['paid_by'])"
   ]
  },
  {
   "cell_type": "code",
   "execution_count": null,
   "metadata": {},
   "outputs": [],
   "source": []
  },
  {
   "cell_type": "code",
   "execution_count": null,
   "metadata": {},
   "outputs": [],
   "source": []
  }
 ],
 "metadata": {
  "kernelspec": {
   "display_name": "base",
   "language": "python",
   "name": "python3"
  },
  "language_info": {
   "codemirror_mode": {
    "name": "ipython",
    "version": 3
   },
   "file_extension": ".py",
   "mimetype": "text/x-python",
   "name": "python",
   "nbconvert_exporter": "python",
   "pygments_lexer": "ipython3",
   "version": "3.11.4"
  }
 },
 "nbformat": 4,
 "nbformat_minor": 2
}
